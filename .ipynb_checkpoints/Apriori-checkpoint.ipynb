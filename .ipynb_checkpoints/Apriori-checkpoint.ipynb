{
 "cells": [
  {
   "cell_type": "code",
   "execution_count": 19,
   "metadata": {},
   "outputs": [
    {
     "ename": "SyntaxError",
     "evalue": "unexpected EOF while parsing (<ipython-input-19-aecf8c2717b2>, line 91)",
     "output_type": "error",
     "traceback": [
      "\u001b[1;36m  File \u001b[1;32m\"<ipython-input-19-aecf8c2717b2>\"\u001b[1;36m, line \u001b[1;32m91\u001b[0m\n\u001b[1;33m    \u001b[0m\n\u001b[1;37m    ^\u001b[0m\n\u001b[1;31mSyntaxError\u001b[0m\u001b[1;31m:\u001b[0m unexpected EOF while parsing\n"
     ]
    }
   ],
   "source": [
    "def loadDataSet(fileName):\n",
    "    f = open(fileName,'r')\n",
    "    dataSet=[]\n",
    "    current = 1\n",
    "    subSet = []\n",
    "    for line in f.readlines():\n",
    "        line=line.strip('\\n')\n",
    "        tmpList = line.split(' ')\n",
    "        index = tmpList[0]\n",
    "        item = tmpList[1]\n",
    "\n",
    "        if int(index) != current:\n",
    "            dataSet.append(subSet)\n",
    "            subSet = []\n",
    "            subSet.append(item)\n",
    "            current += 1\n",
    "        else:\n",
    "            subSet.append(item)\n",
    "    dataSet.append(subSet)\n",
    "    return dataSet    \n",
    "\n",
    "def createC1(dataSet):\n",
    "    C1 = []\n",
    "    for data in dataSet:\n",
    "        for item in data:\n",
    "            if not [item] in C1:\n",
    "                C1.append([item])\n",
    "    return [frozenset(x) for x in C1]\n",
    "\n",
    "def createLk(dataSet,Ck,minSupport):\n",
    "    countCk = {}\n",
    "    for data in dataSet:\n",
    "        for subSet in Ck:\n",
    "            if subSet.issubset(data):\n",
    "                if not subSet in countCk:\n",
    "                    countCk[subSet] = 1\n",
    "                else:\n",
    "                    countCk[subSet] += 1\n",
    "    totalNum = len(dataSet)\n",
    "    Lk = []\n",
    "    countLk = {}\n",
    "    for key in countCk:\n",
    "        support = countCk[key]/totalNum\n",
    "        if support >= minSupport:\n",
    "            Lk.append(key)\n",
    "            countLk[key] = support\n",
    "            \n",
    "    return Lk,countLk\n",
    "\n",
    "def createCk(Lk,k):\n",
    "    ### input\n",
    "    # type of Lk : frozenset in list  \n",
    "    # e.g. [frozenset({'A'}), frozenset({'C'}), frozenset({'B'}), frozenset({'E'})]\n",
    "    # type of k  : int\n",
    "    ###########\n",
    "    ### output\n",
    "    # type of Ck : frozenset in list\n",
    "    Ck = []\n",
    "    Lk_len = len(Lk)\n",
    "    for i in range(Lk_len):\n",
    "        for j in range(i+1,Lk_len):\n",
    "            tmpSet = Lk[i] | Lk[j]\n",
    "            if len(tmpSet) == k and not tmpSet in Ck:\n",
    "                count = 0\n",
    "                for item in Lk:\n",
    "                    if set(item).issubset(tmpSet):\n",
    "                        count += 1\n",
    "                        #print(item,tmpSet,count)\n",
    "                if count == k:\n",
    "                    Ck.append(tmpSet)\n",
    "    \n",
    "    return Ck\n",
    "\n",
    "def apriori(dataSet,minSupport =0.5):\n",
    "    L = []\n",
    "    C1 = createC1(dataSet)\n",
    "    Lk,countL1 = createLk(dataSet,C1,minSupport)\n",
    "    L.append(Lk)\n",
    "    \n",
    "    k = 2\n",
    "    while len(L[k-2]) > 0: \n",
    "        Ck = createCk(Lk,k)\n",
    "        Lk,countLk = createLk(dataSet,Ck,minSupport)\n",
    "        L.append(Lk)\n",
    "        k += 1\n",
    "    return L[k-3]\n",
    "\n",
    "def generateRules(dataSet,L,minConfidence=0.6):\n",
    "    ruleList = []\n",
    "    for i in range(len(L)):\n",
    "        \n",
    "    "
   ]
  },
  {
   "cell_type": "code",
   "execution_count": 16,
   "metadata": {},
   "outputs": [
    {
     "name": "stdout",
     "output_type": "stream",
     "text": [
      "[frozenset({'A', 'C', 'D'}), frozenset({'B', 'C', 'E'})]\n"
     ]
    }
   ],
   "source": [
    "dataSet = loadDataSet('data.txt')\n",
    "L = Apriori(dataSet,0.5)\n",
    "print(L)"
   ]
  },
  {
   "cell_type": "code",
   "execution_count": 113,
   "metadata": {},
   "outputs": [
    {
     "data": {
      "text/plain": [
       "frozenset({'a', 'b'})"
      ]
     },
     "execution_count": 113,
     "metadata": {},
     "output_type": "execute_result"
    }
   ],
   "source": [
    "\n",
    "frozenset(['a','b'])"
   ]
  },
  {
   "cell_type": "code",
   "execution_count": 4,
   "metadata": {},
   "outputs": [
    {
     "data": {
      "text/plain": [
       "4"
      ]
     },
     "execution_count": 4,
     "metadata": {},
     "output_type": "execute_result"
    }
   ],
   "source": [
    "a = [1,2,3]\n",
    "b = [3,4]\n",
    "c = frozenset(a) | set(b)\n",
    "len(c)"
   ]
  },
  {
   "cell_type": "code",
   "execution_count": 18,
   "metadata": {},
   "outputs": [
    {
     "data": {
      "text/plain": [
       "frozenset({'b'})"
      ]
     },
     "execution_count": 18,
     "metadata": {},
     "output_type": "execute_result"
    }
   ],
   "source": [
    "frozenset(['a','b']) - frozenset(['a'])"
   ]
  },
  {
   "cell_type": "code",
   "execution_count": null,
   "metadata": {},
   "outputs": [],
   "source": []
  }
 ],
 "metadata": {
  "kernelspec": {
   "display_name": "Python 3",
   "language": "python",
   "name": "python3"
  },
  "language_info": {
   "codemirror_mode": {
    "name": "ipython",
    "version": 3
   },
   "file_extension": ".py",
   "mimetype": "text/x-python",
   "name": "python",
   "nbconvert_exporter": "python",
   "pygments_lexer": "ipython3",
   "version": "3.7.4"
  }
 },
 "nbformat": 4,
 "nbformat_minor": 2
}
