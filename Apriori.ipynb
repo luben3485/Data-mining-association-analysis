{
 "cells": [
  {
   "cell_type": "code",
   "execution_count": 94,
   "metadata": {},
   "outputs": [],
   "source": [
    "def loadDataSet(fileName):\n",
    "    f = open(fileName,'r')\n",
    "    dataSet=[]\n",
    "    current = 1\n",
    "    subSet = []\n",
    "    for line in f.readlines():\n",
    "        line=line.strip('\\n')\n",
    "        tmpList = line.split(' ')\n",
    "        index = tmpList[0]\n",
    "        item = tmpList[1]\n",
    "\n",
    "        if int(index) != current:\n",
    "            dataSet.append(subSet)\n",
    "            subSet = []\n",
    "            subSet.append(item)\n",
    "            current += 1\n",
    "        else:\n",
    "            subSet.append(item)\n",
    "    dataSet.append(subSet)\n",
    "    return dataSet    "
   ]
  },
  {
   "cell_type": "code",
   "execution_count": 95,
   "metadata": {},
   "outputs": [
    {
     "name": "stdout",
     "output_type": "stream",
     "text": [
      "[['42', '471', '553', '644', '790', '838'], ['325', '397', '510', '629', '656', '716', '772'], ['56', '521'], ['321', '350', '459', '524', '543', '578', '592', '599', '622'], ['7', '543', '981'], ['46', '432', '819']]\n"
     ]
    }
   ],
   "source": [
    "dataSet = loadDataSet('data.txt')\n",
    "print(dataSet)"
   ]
  }
 ],
 "metadata": {
  "kernelspec": {
   "display_name": "Python 3",
   "language": "python",
   "name": "python3"
  },
  "language_info": {
   "codemirror_mode": {
    "name": "ipython",
    "version": 3
   },
   "file_extension": ".py",
   "mimetype": "text/x-python",
   "name": "python",
   "nbconvert_exporter": "python",
   "pygments_lexer": "ipython3",
   "version": "3.7.4"
  }
 },
 "nbformat": 4,
 "nbformat_minor": 2
}
